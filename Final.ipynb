{
 "cells": [
  {
   "cell_type": "code",
   "execution_count": 14,
   "id": "67806968",
   "metadata": {},
   "outputs": [],
   "source": [
    "import pandas as pd\n",
    "pd.options.mode.chained_assignment = None\n",
    "\n",
    "crash_data = pd.read_csv(\"Dataset/Crash2.csv\", dtype=object)\n",
    "crash_factors_data = pd.read_csv(\"Dataset/Description.csv\", dtype=object)\n",
    "vehicles_data = pd.read_csv(\"Dataset/Vehicles.csv\", dtype=object)\n",
    "location_data = pd.read_csv(\"Dataset/Location2.csv\", dtype=object)\n",
    "date_time_data = pd.read_csv(\"Dataset/DateTime.csv\", dtype=object)\n"
   ]
  },
  {
   "cell_type": "markdown",
   "id": "63752e63",
   "metadata": {},
   "source": [
    "# Merging of data\n",
    "\n",
    "Clean the individual data to ensure that there are no duplicates in their primary id, eg for vehicles we removed null values and from location data we are outright dropping any duplicate values of primary keys. Doing this ensures correct merging of data and no extra duplicate rows."
   ]
  },
  {
   "cell_type": "code",
   "execution_count": 15,
   "id": "8ccaf25f",
   "metadata": {},
   "outputs": [
    {
     "name": "stdout",
     "output_type": "stream",
     "text": [
      "<class 'pandas.core.frame.DataFrame'>\n",
      "Int64Index: 1444184 entries, 0 to 1444183\n",
      "Data columns (total 55 columns):\n",
      " #   Column                    Non-Null Count    Dtype \n",
      "---  ------                    --------------    ----- \n",
      " 0   crash_id                  1444184 non-null  object\n",
      " 1   lat_long                  1444184 non-null  object\n",
      " 2   date_time_id              1444184 non-null  object\n",
      " 3   description_id            1444184 non-null  object\n",
      " 4   vehicles_id               1444184 non-null  object\n",
      " 5   casualties_id             1296662 non-null  object\n",
      " 6   Unnamed: 0_x              1444184 non-null  object\n",
      " 7   severity                  1444184 non-null  object\n",
      " 8   speed_limit               1296648 non-null  object\n",
      " 9   midblock                  1444184 non-null  object\n",
      " 10  intersection              1444184 non-null  object\n",
      " 11  road_position_horizontal  1106873 non-null  object\n",
      " 12  road_position_vertical    1106873 non-null  object\n",
      " 13  road_sealed               438760 non-null   object\n",
      " 14  road_wet                  438556 non-null   object\n",
      " 15  weather                   1296662 non-null  object\n",
      " 16  crash_type                333804 non-null   object\n",
      " 17  lighting                  1296662 non-null  object\n",
      " 18  traffic_controls          1106873 non-null  object\n",
      " 19  drugs_alcohol             3530 non-null     object\n",
      " 20  DCA_code                  189789 non-null   object\n",
      " 21  comment                   189789 non-null   object\n",
      " 22  Unnamed: 0_y              1444184 non-null  object\n",
      " 23  animals                   1444184 non-null  object\n",
      " 24  car_sedan                 1444184 non-null  object\n",
      " 25  car_utility               1444184 non-null  object\n",
      " 26  car_van                   1444184 non-null  object\n",
      " 27  car_4x4                   1444184 non-null  object\n",
      " 28  car_station_wagon         1444184 non-null  object\n",
      " 29  motor_cycle               1444184 non-null  object\n",
      " 30  truck_small               1444184 non-null  object\n",
      " 31  truck_large               1444184 non-null  object\n",
      " 32  bus                       1444184 non-null  object\n",
      " 33  taxi                      1444184 non-null  object\n",
      " 34  bicycle                   1444184 non-null  object\n",
      " 35  scooter                   1444184 non-null  object\n",
      " 36  pedestrian                1444184 non-null  object\n",
      " 37  inanimate                 1444184 non-null  object\n",
      " 38  train                     1444184 non-null  object\n",
      " 39  tram                      1444184 non-null  object\n",
      " 40  vehicle_other             1444184 non-null  object\n",
      " 41  latitude                  1444184 non-null  object\n",
      " 42  longitude                 1444184 non-null  object\n",
      " 43  country                   1444184 non-null  object\n",
      " 44  state                     1444184 non-null  object\n",
      " 45  local_government_area     1294852 non-null  object\n",
      " 46  statistical_area          996036 non-null   object\n",
      " 47  suburb                    439084 non-null   object\n",
      " 48  Unnamed: 0                1444184 non-null  object\n",
      " 49  year                      1444184 non-null  object\n",
      " 50  month                     776395 non-null   object\n",
      " 51  day_of_week               776395 non-null   object\n",
      " 52  day_of_month              337311 non-null   object\n",
      " 53  hour                      776395 non-null   object\n",
      " 54  approximate               1444184 non-null  object\n",
      "dtypes: object(55)\n",
      "memory usage: 617.0+ MB\n"
     ]
    }
   ],
   "source": [
    "vehicles_data.dropna(inplace=True)\n",
    "location_data.drop_duplicates(subset=[\"lat_long\"], inplace=True)\n",
    "\n",
    "merged_data = crash_data.merge(crash_factors_data, on=[\"description_id\"])\n",
    "merged_data = merged_data.merge(vehicles_data, on=[\"vehicles_id\"])\n",
    "merged_data = merged_data.merge(location_data, on=[\"lat_long\"])\n",
    "merged_data = merged_data.merge(date_time_data, on=[\"date_time_id\"])\n",
    "merged_data.info()\n"
   ]
  },
  {
   "cell_type": "markdown",
   "id": "c5f5e0f8",
   "metadata": {},
   "source": [
    "# Count of null values\n",
    "\n",
    "This is the count of null values immediatly after merging to get an idea of which attributes have enough data to be useful"
   ]
  },
  {
   "cell_type": "code",
   "execution_count": 16,
   "id": "2f4ea6f0",
   "metadata": {},
   "outputs": [
    {
     "data": {
      "text/plain": [
       "crash_id                          0\n",
       "lat_long                          0\n",
       "date_time_id                      0\n",
       "description_id                    0\n",
       "vehicles_id                       0\n",
       "casualties_id                147522\n",
       "Unnamed: 0_x                      0\n",
       "severity                          0\n",
       "speed_limit                  147536\n",
       "midblock                          0\n",
       "intersection                      0\n",
       "road_position_horizontal     337311\n",
       "road_position_vertical       337311\n",
       "road_sealed                 1005424\n",
       "road_wet                    1005628\n",
       "weather                      147522\n",
       "crash_type                  1110380\n",
       "lighting                     147522\n",
       "traffic_controls             337311\n",
       "drugs_alcohol               1440654\n",
       "DCA_code                    1254395\n",
       "comment                     1254395\n",
       "Unnamed: 0_y                      0\n",
       "animals                           0\n",
       "car_sedan                         0\n",
       "car_utility                       0\n",
       "car_van                           0\n",
       "car_4x4                           0\n",
       "car_station_wagon                 0\n",
       "motor_cycle                       0\n",
       "truck_small                       0\n",
       "truck_large                       0\n",
       "bus                               0\n",
       "taxi                              0\n",
       "bicycle                           0\n",
       "scooter                           0\n",
       "pedestrian                        0\n",
       "inanimate                         0\n",
       "train                             0\n",
       "tram                              0\n",
       "vehicle_other                     0\n",
       "latitude                          0\n",
       "longitude                         0\n",
       "country                           0\n",
       "state                             0\n",
       "local_government_area        149332\n",
       "statistical_area             448148\n",
       "suburb                      1005100\n",
       "Unnamed: 0                        0\n",
       "year                              0\n",
       "month                        667789\n",
       "day_of_week                  667789\n",
       "day_of_month                1106873\n",
       "hour                         667789\n",
       "approximate                       0\n",
       "dtype: int64"
      ]
     },
     "execution_count": 16,
     "metadata": {},
     "output_type": "execute_result"
    }
   ],
   "source": [
    "merged_data.isna().sum()\n"
   ]
  },
  {
   "cell_type": "markdown",
   "id": "0ef6a597",
   "metadata": {},
   "source": [
    "# Initial Cleaning of data\n",
    "\n",
    "This is the basic cleaning part where we remove the unnamed columns which are caused by index in csv files then after this we are dropping all the foreign keys and some redundant cols from the merged data."
   ]
  },
  {
   "cell_type": "code",
   "execution_count": 17,
   "id": "867c87be",
   "metadata": {},
   "outputs": [
    {
     "name": "stdout",
     "output_type": "stream",
     "text": [
      "<class 'pandas.core.frame.DataFrame'>\n",
      "Int64Index: 1444184 entries, 0 to 1444183\n",
      "Data columns (total 42 columns):\n",
      " #   Column                    Non-Null Count    Dtype \n",
      "---  ------                    --------------    ----- \n",
      " 0   crash_id                  1444184 non-null  object\n",
      " 1   severity                  1444184 non-null  object\n",
      " 2   speed_limit               1296648 non-null  object\n",
      " 3   midblock                  1444184 non-null  object\n",
      " 4   intersection              1444184 non-null  object\n",
      " 5   road_position_horizontal  1106873 non-null  object\n",
      " 6   road_position_vertical    1106873 non-null  object\n",
      " 7   road_sealed               438760 non-null   object\n",
      " 8   road_wet                  438556 non-null   object\n",
      " 9   weather                   1296662 non-null  object\n",
      " 10  lighting                  1296662 non-null  object\n",
      " 11  traffic_controls          1106873 non-null  object\n",
      " 12  animals                   1444184 non-null  object\n",
      " 13  car_sedan                 1444184 non-null  object\n",
      " 14  car_utility               1444184 non-null  object\n",
      " 15  car_van                   1444184 non-null  object\n",
      " 16  car_4x4                   1444184 non-null  object\n",
      " 17  car_station_wagon         1444184 non-null  object\n",
      " 18  motor_cycle               1444184 non-null  object\n",
      " 19  truck_small               1444184 non-null  object\n",
      " 20  truck_large               1444184 non-null  object\n",
      " 21  bus                       1444184 non-null  object\n",
      " 22  taxi                      1444184 non-null  object\n",
      " 23  bicycle                   1444184 non-null  object\n",
      " 24  scooter                   1444184 non-null  object\n",
      " 25  pedestrian                1444184 non-null  object\n",
      " 26  inanimate                 1444184 non-null  object\n",
      " 27  train                     1444184 non-null  object\n",
      " 28  tram                      1444184 non-null  object\n",
      " 29  vehicle_other             1444184 non-null  object\n",
      " 30  latitude                  1444184 non-null  object\n",
      " 31  longitude                 1444184 non-null  object\n",
      " 32  country                   1444184 non-null  object\n",
      " 33  state                     1444184 non-null  object\n",
      " 34  local_government_area     1294852 non-null  object\n",
      " 35  statistical_area          996036 non-null   object\n",
      " 36  suburb                    439084 non-null   object\n",
      " 37  year                      1444184 non-null  object\n",
      " 38  month                     776395 non-null   object\n",
      " 39  day_of_week               776395 non-null   object\n",
      " 40  day_of_month              337311 non-null   object\n",
      " 41  hour                      776395 non-null   object\n",
      "dtypes: object(42)\n",
      "memory usage: 473.8+ MB\n"
     ]
    }
   ],
   "source": [
    "merged_data = merged_data.loc[:, ~merged_data.columns.str.contains('^Unnamed')]\n",
    "merged_data.drop([\"lat_long\", \"date_time_id\", \"description_id\", \"vehicles_id\", \"casualties_id\",\n",
    "                 \"DCA_code\", \"comment\", \"drugs_alcohol\", \"approximate\", \"crash_type\"], axis=1, inplace=True)\n",
    "merged_data.info()\n"
   ]
  },
  {
   "cell_type": "markdown",
   "id": "11166b7e",
   "metadata": {},
   "source": [
    "# Removing unneeded attributes (Location)\n",
    "\n",
    "We are removing attribute like state, local government area, statistical area and suburbs as these all can be covered by 2 attributes i.e latitude and longitude"
   ]
  },
  {
   "cell_type": "code",
   "execution_count": 18,
   "id": "b65a49aa",
   "metadata": {},
   "outputs": [
    {
     "name": "stdout",
     "output_type": "stream",
     "text": [
      "<class 'pandas.core.frame.DataFrame'>\n",
      "Int64Index: 1444184 entries, 0 to 1444183\n",
      "Data columns (total 38 columns):\n",
      " #   Column                    Non-Null Count    Dtype \n",
      "---  ------                    --------------    ----- \n",
      " 0   crash_id                  1444184 non-null  object\n",
      " 1   severity                  1444184 non-null  object\n",
      " 2   speed_limit               1296648 non-null  object\n",
      " 3   midblock                  1444184 non-null  object\n",
      " 4   intersection              1444184 non-null  object\n",
      " 5   road_position_horizontal  1106873 non-null  object\n",
      " 6   road_position_vertical    1106873 non-null  object\n",
      " 7   road_sealed               438760 non-null   object\n",
      " 8   road_wet                  438556 non-null   object\n",
      " 9   weather                   1296662 non-null  object\n",
      " 10  lighting                  1296662 non-null  object\n",
      " 11  traffic_controls          1106873 non-null  object\n",
      " 12  animals                   1444184 non-null  object\n",
      " 13  car_sedan                 1444184 non-null  object\n",
      " 14  car_utility               1444184 non-null  object\n",
      " 15  car_van                   1444184 non-null  object\n",
      " 16  car_4x4                   1444184 non-null  object\n",
      " 17  car_station_wagon         1444184 non-null  object\n",
      " 18  motor_cycle               1444184 non-null  object\n",
      " 19  truck_small               1444184 non-null  object\n",
      " 20  truck_large               1444184 non-null  object\n",
      " 21  bus                       1444184 non-null  object\n",
      " 22  taxi                      1444184 non-null  object\n",
      " 23  bicycle                   1444184 non-null  object\n",
      " 24  scooter                   1444184 non-null  object\n",
      " 25  pedestrian                1444184 non-null  object\n",
      " 26  inanimate                 1444184 non-null  object\n",
      " 27  train                     1444184 non-null  object\n",
      " 28  tram                      1444184 non-null  object\n",
      " 29  vehicle_other             1444184 non-null  object\n",
      " 30  latitude                  1444184 non-null  object\n",
      " 31  longitude                 1444184 non-null  object\n",
      " 32  country                   1444184 non-null  object\n",
      " 33  year                      1444184 non-null  object\n",
      " 34  month                     776395 non-null   object\n",
      " 35  day_of_week               776395 non-null   object\n",
      " 36  day_of_month              337311 non-null   object\n",
      " 37  hour                      776395 non-null   object\n",
      "dtypes: object(38)\n",
      "memory usage: 429.7+ MB\n"
     ]
    }
   ],
   "source": [
    "merged_data.drop([\"local_government_area\", \"statistical_area\",\n",
    "                 \"suburb\", \"state\"], axis=1, inplace=True)\n",
    "merged_data.info()\n"
   ]
  },
  {
   "cell_type": "markdown",
   "id": "4df154e1",
   "metadata": {},
   "source": [
    "# Removing unneeded attributes (Date & Time)\n",
    "\n",
    "We are removing the year, month, day of week and day of month, hour due to less data available ( only about 50% ) or they don't affect severity"
   ]
  },
  {
   "cell_type": "code",
   "execution_count": 19,
   "id": "cf69f21e",
   "metadata": {},
   "outputs": [
    {
     "name": "stdout",
     "output_type": "stream",
     "text": [
      "<class 'pandas.core.frame.DataFrame'>\n",
      "Int64Index: 1444184 entries, 0 to 1444183\n",
      "Data columns (total 33 columns):\n",
      " #   Column                    Non-Null Count    Dtype \n",
      "---  ------                    --------------    ----- \n",
      " 0   crash_id                  1444184 non-null  object\n",
      " 1   severity                  1444184 non-null  object\n",
      " 2   speed_limit               1296648 non-null  object\n",
      " 3   midblock                  1444184 non-null  object\n",
      " 4   intersection              1444184 non-null  object\n",
      " 5   road_position_horizontal  1106873 non-null  object\n",
      " 6   road_position_vertical    1106873 non-null  object\n",
      " 7   road_sealed               438760 non-null   object\n",
      " 8   road_wet                  438556 non-null   object\n",
      " 9   weather                   1296662 non-null  object\n",
      " 10  lighting                  1296662 non-null  object\n",
      " 11  traffic_controls          1106873 non-null  object\n",
      " 12  animals                   1444184 non-null  object\n",
      " 13  car_sedan                 1444184 non-null  object\n",
      " 14  car_utility               1444184 non-null  object\n",
      " 15  car_van                   1444184 non-null  object\n",
      " 16  car_4x4                   1444184 non-null  object\n",
      " 17  car_station_wagon         1444184 non-null  object\n",
      " 18  motor_cycle               1444184 non-null  object\n",
      " 19  truck_small               1444184 non-null  object\n",
      " 20  truck_large               1444184 non-null  object\n",
      " 21  bus                       1444184 non-null  object\n",
      " 22  taxi                      1444184 non-null  object\n",
      " 23  bicycle                   1444184 non-null  object\n",
      " 24  scooter                   1444184 non-null  object\n",
      " 25  pedestrian                1444184 non-null  object\n",
      " 26  inanimate                 1444184 non-null  object\n",
      " 27  train                     1444184 non-null  object\n",
      " 28  tram                      1444184 non-null  object\n",
      " 29  vehicle_other             1444184 non-null  object\n",
      " 30  latitude                  1444184 non-null  object\n",
      " 31  longitude                 1444184 non-null  object\n",
      " 32  country                   1444184 non-null  object\n",
      "dtypes: object(33)\n",
      "memory usage: 374.6+ MB\n"
     ]
    }
   ],
   "source": [
    "merged_data.drop([\"year\", \"month\", \"day_of_week\",\n",
    "                 \"day_of_month\", \"hour\"], axis=1, inplace=True)\n",
    "merged_data.info()\n"
   ]
  },
  {
   "cell_type": "markdown",
   "id": "6bb2f644",
   "metadata": {},
   "source": [
    "# Remove data with more than 50% null values"
   ]
  },
  {
   "cell_type": "code",
   "execution_count": 20,
   "id": "f404a683",
   "metadata": {},
   "outputs": [
    {
     "name": "stdout",
     "output_type": "stream",
     "text": [
      "<class 'pandas.core.frame.DataFrame'>\n",
      "Int64Index: 1444184 entries, 0 to 1444183\n",
      "Data columns (total 31 columns):\n",
      " #   Column                    Non-Null Count    Dtype \n",
      "---  ------                    --------------    ----- \n",
      " 0   crash_id                  1444184 non-null  object\n",
      " 1   severity                  1444184 non-null  object\n",
      " 2   speed_limit               1296648 non-null  object\n",
      " 3   midblock                  1444184 non-null  object\n",
      " 4   intersection              1444184 non-null  object\n",
      " 5   road_position_horizontal  1106873 non-null  object\n",
      " 6   road_position_vertical    1106873 non-null  object\n",
      " 7   weather                   1296662 non-null  object\n",
      " 8   lighting                  1296662 non-null  object\n",
      " 9   traffic_controls          1106873 non-null  object\n",
      " 10  animals                   1444184 non-null  object\n",
      " 11  car_sedan                 1444184 non-null  object\n",
      " 12  car_utility               1444184 non-null  object\n",
      " 13  car_van                   1444184 non-null  object\n",
      " 14  car_4x4                   1444184 non-null  object\n",
      " 15  car_station_wagon         1444184 non-null  object\n",
      " 16  motor_cycle               1444184 non-null  object\n",
      " 17  truck_small               1444184 non-null  object\n",
      " 18  truck_large               1444184 non-null  object\n",
      " 19  bus                       1444184 non-null  object\n",
      " 20  taxi                      1444184 non-null  object\n",
      " 21  bicycle                   1444184 non-null  object\n",
      " 22  scooter                   1444184 non-null  object\n",
      " 23  pedestrian                1444184 non-null  object\n",
      " 24  inanimate                 1444184 non-null  object\n",
      " 25  train                     1444184 non-null  object\n",
      " 26  tram                      1444184 non-null  object\n",
      " 27  vehicle_other             1444184 non-null  object\n",
      " 28  latitude                  1444184 non-null  object\n",
      " 29  longitude                 1444184 non-null  object\n",
      " 30  country                   1444184 non-null  object\n",
      "dtypes: object(31)\n",
      "memory usage: 352.6+ MB\n"
     ]
    }
   ],
   "source": [
    "merged_data.drop([\"road_sealed\", \"road_wet\"], axis=1, inplace=True)\n",
    "merged_data.info()\n"
   ]
  },
  {
   "cell_type": "markdown",
   "id": "5862fba2",
   "metadata": {},
   "source": [
    "# Replace null / empty values with mode of that column"
   ]
  },
  {
   "cell_type": "code",
   "execution_count": 21,
   "id": "9a207898",
   "metadata": {},
   "outputs": [
    {
     "name": "stdout",
     "output_type": "stream",
     "text": [
      "<class 'pandas.core.frame.DataFrame'>\n",
      "Int64Index: 1444184 entries, 0 to 1444183\n",
      "Data columns (total 31 columns):\n",
      " #   Column                    Non-Null Count    Dtype \n",
      "---  ------                    --------------    ----- \n",
      " 0   crash_id                  1444184 non-null  object\n",
      " 1   severity                  1444184 non-null  object\n",
      " 2   speed_limit               1444184 non-null  object\n",
      " 3   midblock                  1444184 non-null  object\n",
      " 4   intersection              1444184 non-null  object\n",
      " 5   road_position_horizontal  1444184 non-null  object\n",
      " 6   road_position_vertical    1444184 non-null  object\n",
      " 7   weather                   1444184 non-null  object\n",
      " 8   lighting                  1444184 non-null  object\n",
      " 9   traffic_controls          1444184 non-null  object\n",
      " 10  animals                   1444184 non-null  object\n",
      " 11  car_sedan                 1444184 non-null  object\n",
      " 12  car_utility               1444184 non-null  object\n",
      " 13  car_van                   1444184 non-null  object\n",
      " 14  car_4x4                   1444184 non-null  object\n",
      " 15  car_station_wagon         1444184 non-null  object\n",
      " 16  motor_cycle               1444184 non-null  object\n",
      " 17  truck_small               1444184 non-null  object\n",
      " 18  truck_large               1444184 non-null  object\n",
      " 19  bus                       1444184 non-null  object\n",
      " 20  taxi                      1444184 non-null  object\n",
      " 21  bicycle                   1444184 non-null  object\n",
      " 22  scooter                   1444184 non-null  object\n",
      " 23  pedestrian                1444184 non-null  object\n",
      " 24  inanimate                 1444184 non-null  object\n",
      " 25  train                     1444184 non-null  object\n",
      " 26  tram                      1444184 non-null  object\n",
      " 27  vehicle_other             1444184 non-null  object\n",
      " 28  latitude                  1444184 non-null  object\n",
      " 29  longitude                 1444184 non-null  object\n",
      " 30  country                   1444184 non-null  object\n",
      "dtypes: object(31)\n",
      "memory usage: 352.6+ MB\n"
     ]
    }
   ],
   "source": [
    "import numpy as np\n",
    "from sklearn.impute import SimpleImputer\n",
    "\n",
    "imp_mean = SimpleImputer(missing_values=np.nan, strategy='most_frequent')\n",
    "imputed_data = pd.DataFrame(imp_mean.fit_transform(merged_data))\n",
    "imputed_data.columns = merged_data.columns\n",
    "imputed_data.index = merged_data.index\n",
    "merged_data = imputed_data\n",
    "\n",
    "merged_data.info()\n"
   ]
  },
  {
   "cell_type": "markdown",
   "id": "35c04d7e",
   "metadata": {},
   "source": [
    "# Set correct data type for columns"
   ]
  },
  {
   "cell_type": "code",
   "execution_count": 22,
   "id": "e580bc8a",
   "metadata": {},
   "outputs": [
    {
     "name": "stdout",
     "output_type": "stream",
     "text": [
      "<class 'pandas.core.frame.DataFrame'>\n",
      "Int64Index: 1444184 entries, 0 to 1444183\n",
      "Data columns (total 31 columns):\n",
      " #   Column                    Non-Null Count    Dtype  \n",
      "---  ------                    --------------    -----  \n",
      " 0   crash_id                  1444184 non-null  object \n",
      " 1   severity                  1444184 non-null  object \n",
      " 2   speed_limit               1444184 non-null  object \n",
      " 3   midblock                  1444184 non-null  object \n",
      " 4   intersection              1444184 non-null  object \n",
      " 5   road_position_horizontal  1444184 non-null  object \n",
      " 6   road_position_vertical    1444184 non-null  object \n",
      " 7   weather                   1444184 non-null  object \n",
      " 8   lighting                  1444184 non-null  object \n",
      " 9   traffic_controls          1444184 non-null  object \n",
      " 10  animals                   1444184 non-null  int64  \n",
      " 11  car_sedan                 1444184 non-null  int64  \n",
      " 12  car_utility               1444184 non-null  int64  \n",
      " 13  car_van                   1444184 non-null  int64  \n",
      " 14  car_4x4                   1444184 non-null  int64  \n",
      " 15  car_station_wagon         1444184 non-null  int64  \n",
      " 16  motor_cycle               1444184 non-null  int64  \n",
      " 17  truck_small               1444184 non-null  int64  \n",
      " 18  truck_large               1444184 non-null  int64  \n",
      " 19  bus                       1444184 non-null  int64  \n",
      " 20  taxi                      1444184 non-null  int64  \n",
      " 21  bicycle                   1444184 non-null  int64  \n",
      " 22  scooter                   1444184 non-null  int64  \n",
      " 23  pedestrian                1444184 non-null  int64  \n",
      " 24  inanimate                 1444184 non-null  int64  \n",
      " 25  train                     1444184 non-null  int64  \n",
      " 26  tram                      1444184 non-null  int64  \n",
      " 27  vehicle_other             1444184 non-null  int64  \n",
      " 28  latitude                  1444184 non-null  float64\n",
      " 29  longitude                 1444184 non-null  float64\n",
      " 30  country                   1444184 non-null  object \n",
      "dtypes: float64(2), int64(18), object(11)\n",
      "memory usage: 352.6+ MB\n"
     ]
    }
   ],
   "source": [
    "merged_data = merged_data.astype({'severity': 'str', 'speed_limit': 'str', 'midblock': 'str', 'intersection': 'str', 'road_position_horizontal': 'str', 'road_position_vertical': 'str', 'weather': 'str', 'lighting': 'str', 'traffic_controls': 'str', 'animals': 'float64', 'car_sedan': 'float64', 'car_utility': 'float64', 'car_van': 'float64', 'car_4x4': 'float64',\n",
    "                                 'car_station_wagon': 'float64', 'motor_cycle': 'float64', 'truck_small': 'float64', 'truck_large': 'float64', 'bus': 'float64', 'taxi': 'float64', 'bicycle': 'float64', 'scooter': 'float64', 'pedestrian': 'float64', 'inanimate': 'float64', 'train': 'float64', 'tram': 'float64', 'vehicle_other': 'float64', 'latitude': 'float64', 'longitude': 'float64', 'country': 'str'})\n",
    "merged_data = merged_data.astype({'animals': 'int64', 'car_sedan': 'int64', 'car_utility': 'int64', 'car_van': 'int64', 'car_4x4': 'int64', 'car_station_wagon': 'int64', 'motor_cycle': 'int64', 'truck_small': 'int64',\n",
    "                                 'truck_large': 'int64', 'bus': 'int64', 'taxi': 'int64', 'bicycle': 'int64', 'scooter': 'int64', 'pedestrian': 'int64', 'inanimate': 'int64', 'train': 'int64', 'tram': 'int64', 'vehicle_other': 'int64'})\n",
    "merged_data.info()\n"
   ]
  },
  {
   "cell_type": "markdown",
   "id": "734940ff",
   "metadata": {},
   "source": [
    "# Remove rows with garbage values from speed, latitude and longitude attributes"
   ]
  },
  {
   "cell_type": "code",
   "execution_count": 23,
   "id": "79f4e9e8",
   "metadata": {},
   "outputs": [
    {
     "name": "stdout",
     "output_type": "stream",
     "text": [
      "<class 'pandas.core.frame.DataFrame'>\n",
      "Int64Index: 1432242 entries, 0 to 1444183\n",
      "Data columns (total 31 columns):\n",
      " #   Column                    Non-Null Count    Dtype  \n",
      "---  ------                    --------------    -----  \n",
      " 0   crash_id                  1432242 non-null  object \n",
      " 1   severity                  1432242 non-null  object \n",
      " 2   speed_limit               1432242 non-null  object \n",
      " 3   midblock                  1432242 non-null  object \n",
      " 4   intersection              1432242 non-null  object \n",
      " 5   road_position_horizontal  1432242 non-null  object \n",
      " 6   road_position_vertical    1432242 non-null  object \n",
      " 7   weather                   1432242 non-null  object \n",
      " 8   lighting                  1432242 non-null  object \n",
      " 9   traffic_controls          1432242 non-null  object \n",
      " 10  animals                   1432242 non-null  int64  \n",
      " 11  car_sedan                 1432242 non-null  int64  \n",
      " 12  car_utility               1432242 non-null  int64  \n",
      " 13  car_van                   1432242 non-null  int64  \n",
      " 14  car_4x4                   1432242 non-null  int64  \n",
      " 15  car_station_wagon         1432242 non-null  int64  \n",
      " 16  motor_cycle               1432242 non-null  int64  \n",
      " 17  truck_small               1432242 non-null  int64  \n",
      " 18  truck_large               1432242 non-null  int64  \n",
      " 19  bus                       1432242 non-null  int64  \n",
      " 20  taxi                      1432242 non-null  int64  \n",
      " 21  bicycle                   1432242 non-null  int64  \n",
      " 22  scooter                   1432242 non-null  int64  \n",
      " 23  pedestrian                1432242 non-null  int64  \n",
      " 24  inanimate                 1432242 non-null  int64  \n",
      " 25  train                     1432242 non-null  int64  \n",
      " 26  tram                      1432242 non-null  int64  \n",
      " 27  vehicle_other             1432242 non-null  int64  \n",
      " 28  latitude                  1432242 non-null  float64\n",
      " 29  longitude                 1432242 non-null  float64\n",
      " 30  country                   1432242 non-null  object \n",
      "dtypes: float64(2), int64(18), object(11)\n",
      "memory usage: 349.7+ MB\n"
     ]
    }
   ],
   "source": [
    "import numpy as np\n",
    "\n",
    "merged_data.loc[:, \"speed_limit\"] = merged_data[\"speed_limit\"].replace(\n",
    "    {\" km/h\": \"\"}, regex=True)\n",
    "merged_data = merged_data[~merged_data[\"speed_limit\"].isin(\n",
    "    [\"888\", \"777\", \"999\"])]\n",
    "\n",
    "merged_data.drop(merged_data[(merged_data[\"latitude\"] == 0) | (\n",
    "    merged_data[\"longitude\"] == 0)].index, inplace=True)\n",
    "merged_data.replace([np.inf, -np.inf], np.nan, inplace=True)\n",
    "merged_data.dropna(inplace=True)\n",
    "\n",
    "merged_data.info()\n"
   ]
  },
  {
   "cell_type": "markdown",
   "id": "9ddeb9b2",
   "metadata": {},
   "source": [
    "# Cleaning of speed Limit data\n",
    "\n",
    "The speed_limit attribute has both discrete and ranged values so to use this attribute effectivly we need to convert all data into one format, as for current situation we will be binning the data into bins of 0 - 50, 50 - 80, 80 - 90, 90 - 100, 100 - 110"
   ]
  },
  {
   "cell_type": "code",
   "execution_count": 24,
   "id": "b49f7043",
   "metadata": {},
   "outputs": [
    {
     "data": {
      "text/plain": [
       "array(['50 - 80', '100 - 110', '0 - 50', '90 - 100', '80 - 90'],\n",
       "      dtype=object)"
      ]
     },
     "execution_count": 24,
     "metadata": {},
     "output_type": "execute_result"
    }
   ],
   "source": [
    "import pandas as pd\n",
    "\n",
    "\n",
    "def isInt(row):\n",
    "    try:\n",
    "        float(row[\"speed_limit\"])\n",
    "        return True\n",
    "    except ValueError:\n",
    "        return False\n",
    "\n",
    "\n",
    "def isNotInt(row):\n",
    "    try:\n",
    "        float(row[\"speed_limit\"])\n",
    "        return False\n",
    "    except ValueError:\n",
    "        return True\n",
    "\n",
    "\n",
    "def discreteToRangeBins(df):\n",
    "    label_names = [\"0 - 50\", \"50 - 80\", \"80 - 90\", \"90 - 100\", \"100 - 110\"]\n",
    "    cut_points = [0, 50, 80, 90, 100, 110]\n",
    "    df.loc[:, \"speed_limit\"] = pd.cut(\n",
    "        df[\"speed_limit\"], cut_points, labels=label_names)\n",
    "\n",
    "\n",
    "discrete_mask = merged_data.apply(isInt, axis=1)\n",
    "ranged_mask = merged_data.apply(isNotInt, axis=1)\n",
    "\n",
    "discrete_speeds = merged_data[discrete_mask]\n",
    "ranged_speeds = merged_data[ranged_mask]\n",
    "\n",
    "discrete_speeds.loc[:, \"speed_limit\"] = discrete_speeds[\"speed_limit\"].apply(\n",
    "    lambda speed: int(float(speed)))\n",
    "discreteToRangeBins(discrete_speeds)\n",
    "\n",
    "merged_data.loc[:, :] = pd.concat([discrete_speeds, ranged_speeds])\n",
    "merged_data[\"speed_limit\"].unique()\n"
   ]
  },
  {
   "cell_type": "markdown",
   "id": "bdfc8851",
   "metadata": {},
   "source": [
    "# Check validity of data using latitude and longitude validations\n",
    "\n",
    "We know that the bounds of longitude and latitude for Australia and New Zealand are (110.338953078 - 160.569469029), (-40.6345972634, -8.6681857235) and (160.509144322 - 186.517093541), (-50.641235447 - -30.4506617165) respectivly. So checking for these bounds should confirm that this data is infact that of Australia and New Zealand only."
   ]
  },
  {
   "cell_type": "code",
   "execution_count": 25,
   "id": "46fe5693",
   "metadata": {},
   "outputs": [
    {
     "name": "stdout",
     "output_type": "stream",
     "text": [
      "True\n"
     ]
    }
   ],
   "source": [
    "is_latitude_within_range = all((lat >= -40.6345972634 and lat <= -8.6681857235) or (\n",
    "    lat >= -50.641235447 and lat <= -30.4506617165) for (lat) in merged_data[\"latitude\"].values)\n",
    "is_longitude_within_range = all((lng >= 110.338953078 and lng <= 160.569469029) or (\n",
    "    lng >= 160.509144322 and lng <= 186.517093541) for (lng) in merged_data[\"longitude\"].values)\n",
    "print(is_longitude_within_range and is_latitude_within_range)\n"
   ]
  },
  {
   "attachments": {
    "Clustering-2.png": {
     "image/png": "[encoded data removed]"
    }
   },
   "cell_type": "markdown",
   "id": "a7fe57a2",
   "metadata": {},
   "source": [
    "# Making Clusters based on latitude and longitude\n",
    "Due to requirement of high computing power this clustering was done on cloud and is being directly imported here\n",
    "![Clustering-2.png](attachment:Clustering-2.png)"
   ]
  },
  {
   "cell_type": "code",
   "execution_count": 26,
   "id": "5dbd8ace",
   "metadata": {},
   "outputs": [
    {
     "data": {
      "text/plain": [
       "array([     0,    103,    272, ..., 287354, 274546, 287360])"
      ]
     },
     "execution_count": 26,
     "metadata": {},
     "output_type": "execute_result"
    }
   ],
   "source": [
    "cluster_data = pd.read_csv(\"Dataset/clustered_data.csv\", dtype={\n",
    "    'crash_id': str,\n",
    "    'cluster': int\n",
    "})\n",
    "merged_data = merged_data.merge(cluster_data, on=[\"crash_id\"])\n",
    "merged_data[\"cluster\"].unique()"
   ]
  },
  {
   "cell_type": "markdown",
   "id": "d04b1615",
   "metadata": {},
   "source": [
    "# Plot the clusters formed along with centers"
   ]
  },
  {
   "cell_type": "code",
   "execution_count": 27,
   "id": "dababc76",
   "metadata": {},
   "outputs": [],
   "source": [
    "# merged_data.plot.scatter(x='latitude', y='longitude',\n",
    "#                          c=labels, s=50, cmap='viridis')\n",
    "# plt.scatter(centers[:, 0], centers[:, 1], c='black', s=200, alpha=0.5)\n"
   ]
  },
  {
   "cell_type": "markdown",
   "id": "6c69de02",
   "metadata": {},
   "source": [
    "# Breaking data country wise for analysis"
   ]
  },
  {
   "cell_type": "code",
   "execution_count": 28,
   "id": "2406c832",
   "metadata": {},
   "outputs": [],
   "source": [
    "australia_data = merged_data[merged_data[\"country\"] == \"AU\"]\n",
    "new_zealand_data = merged_data[merged_data[\"country\"] == \"NZ\"]\n"
   ]
  },
  {
   "cell_type": "markdown",
   "id": "ed01aef1",
   "metadata": {},
   "source": [
    "# Country wise distribution of data"
   ]
  },
  {
   "cell_type": "code",
   "execution_count": 29,
   "id": "73285e5c",
   "metadata": {},
   "outputs": [
    {
     "data": {
      "image/png": "[encoded data removed]",
      "text/plain": [
       "<Figure size 432x288 with 1 Axes>"
      ]
     },
     "metadata": {},
     "output_type": "display_data"
    }
   ],
   "source": [
    "from matplotlib import pyplot as plt\n",
    "import numpy as np\n",
    "\n",
    "fig = plt.figure()\n",
    "ax = fig.add_axes([0, 0, 1, 1])\n",
    "ax.axis('equal')\n",
    "ax.pie([len(australia_data), len(new_zealand_data)], labels=[\n",
    "       \"Australia\", \"New Zealand\"], autopct='%1.2f%%')\n",
    "plt.show()\n"
   ]
  },
  {
   "cell_type": "markdown",
   "id": "3276342d",
   "metadata": {},
   "source": [
    "# Saving of processed dataset"
   ]
  },
  {
   "cell_type": "code",
   "execution_count": 30,
   "id": "b11796e9",
   "metadata": {},
   "outputs": [
    {
     "name": "stdout",
     "output_type": "stream",
     "text": [
      "<class 'pandas.core.frame.DataFrame'>\n",
      "Int64Index: 1217919 entries, 0 to 1217918\n",
      "Data columns (total 32 columns):\n",
      " #   Column                    Non-Null Count    Dtype  \n",
      "---  ------                    --------------    -----  \n",
      " 0   crash_id                  1217919 non-null  object \n",
      " 1   severity                  1217919 non-null  object \n",
      " 2   speed_limit               1217919 non-null  object \n",
      " 3   midblock                  1217919 non-null  object \n",
      " 4   intersection              1217919 non-null  object \n",
      " 5   road_position_horizontal  1217919 non-null  object \n",
      " 6   road_position_vertical    1217919 non-null  object \n",
      " 7   weather                   1217919 non-null  object \n",
      " 8   lighting                  1217919 non-null  object \n",
      " 9   traffic_controls          1217919 non-null  object \n",
      " 10  animals                   1217919 non-null  int64  \n",
      " 11  car_sedan                 1217919 non-null  int64  \n",
      " 12  car_utility               1217919 non-null  int64  \n",
      " 13  car_van                   1217919 non-null  int64  \n",
      " 14  car_4x4                   1217919 non-null  int64  \n",
      " 15  car_station_wagon         1217919 non-null  int64  \n",
      " 16  motor_cycle               1217919 non-null  int64  \n",
      " 17  truck_small               1217919 non-null  int64  \n",
      " 18  truck_large               1217919 non-null  int64  \n",
      " 19  bus                       1217919 non-null  int64  \n",
      " 20  taxi                      1217919 non-null  int64  \n",
      " 21  bicycle                   1217919 non-null  int64  \n",
      " 22  scooter                   1217919 non-null  int64  \n",
      " 23  pedestrian                1217919 non-null  int64  \n",
      " 24  inanimate                 1217919 non-null  int64  \n",
      " 25  train                     1217919 non-null  int64  \n",
      " 26  tram                      1217919 non-null  int64  \n",
      " 27  vehicle_other             1217919 non-null  int64  \n",
      " 28  latitude                  1217919 non-null  float64\n",
      " 29  longitude                 1217919 non-null  float64\n",
      " 30  country                   1217919 non-null  object \n",
      " 31  cluster                   1217919 non-null  int32  \n",
      "dtypes: float64(2), int32(1), int64(18), object(11)\n",
      "memory usage: 302.0+ MB\n"
     ]
    }
   ],
   "source": [
    "merged_data.info()\n"
   ]
  },
  {
   "cell_type": "markdown",
   "id": "db5d9bc1",
   "metadata": {},
   "source": [
    "# Seperating factors and output column"
   ]
  },
  {
   "cell_type": "code",
   "execution_count": 31,
   "id": "214b7bb7",
   "metadata": {},
   "outputs": [
    {
     "name": "stdout",
     "output_type": "stream",
     "text": [
      "Index(['speed_limit', 'midblock', 'intersection', 'road_position_horizontal',\n",
      "       'road_position_vertical', 'weather', 'lighting', 'traffic_controls',\n",
      "       'animals', 'car_sedan', 'car_utility', 'car_van', 'car_4x4',\n",
      "       'car_station_wagon', 'motor_cycle', 'truck_small', 'truck_large', 'bus',\n",
      "       'taxi', 'bicycle', 'scooter', 'pedestrian', 'inanimate', 'train',\n",
      "       'tram', 'vehicle_other', 'cluster'],\n",
      "      dtype='object')\n"
     ]
    }
   ],
   "source": [
    "factors = merged_data.drop(\n",
    "    [\"severity\", \"crash_id\", \"country\", \"latitude\", \"longitude\"], axis=1, errors=\"ignore\")\n",
    "output = merged_data[[\"severity\"]]\n",
    "print(factors.columns)\n"
   ]
  },
  {
   "cell_type": "markdown",
   "id": "e4ae555f",
   "metadata": {},
   "source": [
    "# Handling imbalance of data by oversampling"
   ]
  },
  {
   "cell_type": "code",
   "execution_count": 32,
   "id": "5bcd5a22",
   "metadata": {},
   "outputs": [
    {
     "name": "stdout",
     "output_type": "stream",
     "text": [
      "Values before oversampling of training data :  Counter({'property_damage': 579795, 'minor_injury': 427023, 'serious_injury': 195879, 'fatality': 15222})\n",
      "Values after oversampling of training data :  Counter({'property_damage': 579795, 'minor_injury': 579795, 'serious_injury': 579795, 'fatality': 579795})\n"
     ]
    }
   ],
   "source": [
    "from imblearn.over_sampling import RandomOverSampler\n",
    "from collections import Counter\n",
    "\n",
    "print(\"Values before oversampling of training data : \",\n",
    "      Counter(output[\"severity\"].values))\n",
    "for i in range(0, 3):\n",
    "    oversample = RandomOverSampler(sampling_strategy='minority')\n",
    "    factors_over, output_over = oversample.fit_resample(\n",
    "        factors.values, output[\"severity\"].values)\n",
    "    factors = pd.DataFrame(factors_over, columns=list(factors.columns))\n",
    "    output = pd.DataFrame(output_over, columns=list(output.columns))\n",
    "print(\"Values after oversampling of training data : \",\n",
    "      Counter(output[\"severity\"].values))\n"
   ]
  },
  {
   "cell_type": "markdown",
   "id": "090c9df8",
   "metadata": {},
   "source": [
    "# Scaling data & splitting it into training and testing dataset\n",
    "\n",
    "Here we are applying standard scalar to scale those numerical values which will then be split into ( 80 : 20 ) ratio for training data and testing data respectivly"
   ]
  },
  {
   "cell_type": "code",
   "execution_count": 33,
   "id": "d3ea5970",
   "metadata": {},
   "outputs": [],
   "source": [
    "from sklearn.preprocessing import OneHotEncoder\n",
    "from sklearn.preprocessing import StandardScaler\n",
    "from sklearn.model_selection import train_test_split\n",
    "\n",
    "encoder = OneHotEncoder()\n",
    "encoder.fit(factors)\n",
    "factors_encoded = encoder.transform(factors)\n",
    "\n",
    "x_train, x_test, y_train, y_test = train_test_split(\n",
    "    factors_encoded, output, test_size=0.2, random_state=1)\n",
    "\n",
    "st_x = StandardScaler(with_mean=False)\n",
    "x_train = st_x.fit_transform(x_train)\n",
    "x_test = st_x.transform(x_test)\n"
   ]
  },
  {
   "cell_type": "code",
   "execution_count": 34,
   "id": "ab7a1030",
   "metadata": {},
   "outputs": [
    {
     "data": {
      "text/plain": [
       "0.8092580136082581"
      ]
     },
     "execution_count": 34,
     "metadata": {},
     "output_type": "execute_result"
    }
   ],
   "source": [
    "from sklearn.tree import DecisionTreeClassifier\n",
    "from sklearn.metrics import accuracy_score\n",
    "\n",
    "decesionTreeClassifier = DecisionTreeClassifier()\n",
    "decesionTreeClassifier.fit(x_train, y_train)\n",
    "predictions = decesionTreeClassifier.predict(x_test)\n",
    "score = accuracy_score(y_test, predictions)\n",
    "score\n"
   ]
  },
  {
   "cell_type": "markdown",
   "id": "038cce48",
   "metadata": {},
   "source": [
    "# Confusion Matrix\n",
    "\n",
    "The confusion matrix for above decesion tree shows us that there is quite a lot of skewness in our data because of which this are a lot of false positives as well as true negatives"
   ]
  },
  {
   "cell_type": "code",
   "execution_count": 36,
   "id": "35938645",
   "metadata": {},
   "outputs": [
    {
     "name": "stdout",
     "output_type": "stream",
     "text": [
      "[[ 96682  14082   4408    693]\n",
      " [ 23908  73185  16268   2705]\n",
      " [  2860  13020  96376   4011]\n",
      " [    38   1368   5112 109120]]\n"
     ]
    }
   ],
   "source": [
    "from sklearn.metrics import confusion_matrix\n",
    "\n",
    "matrix = confusion_matrix(y_test, predictions, labels=[\n",
    "                          \"property_damage\", \"minor_injury\", \"serious_injury\", \"fatality\"])\n",
    "print(matrix)\n"
   ]
  }
 ],
 "metadata": {
  "kernelspec": {
   "display_name": "Python 3",
   "language": "python",
   "name": "python3"
  },
  "language_info": {
   "codemirror_mode": {
    "name": "ipython",
    "version": 3
   },
   "file_extension": ".py",
   "mimetype": "text/x-python",
   "name": "python",
   "nbconvert_exporter": "python",
   "pygments_lexer": "ipython3",
   "version": "3.8.8"
  }
 },
 "nbformat": 4,
 "nbformat_minor": 5
}
